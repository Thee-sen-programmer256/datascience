{
 "cells": [
  {
   "cell_type": "code",
   "execution_count": null,
   "metadata": {},
   "outputs": [
    {
     "ename": "SyntaxError",
     "evalue": "EOL while scanning string literal (3686945220.py, line 31)",
     "output_type": "error",
     "traceback": [
      "\u001b[0;36m  File \u001b[0;32m\"/var/folders/l2/7jqgw4j12rd37gnvlfw6w22r0000gn/T/ipykernel_15188/3686945220.py\"\u001b[0;36m, line \u001b[0;32m31\u001b[0m\n\u001b[0;31m    bank_details.append(BANK_(bank,datetime,termid,stan,pan,transaction_type,rrn,response_message,req_amount,final_amount,net_surcharge,net_impact,tran_id'))\u001b[0m\n\u001b[0m                                                                                                                                                             ^\u001b[0m\n\u001b[0;31mSyntaxError\u001b[0m\u001b[0;31m:\u001b[0m EOL while scanning string literal\n"
     ]
    }
   ],
   "source": [
    "import pandas as pd \n",
    "import pdfplumber\n",
    "import re\n",
    "from collections import namedtuple\n",
    "BANK_=namedtuple(\"BANK_\",\"bank datetime termid stan pan transaction_type rrn response_message req_amount final_amount net_surcharge net_impact tran_id\")\n",
    "path=\"/Users/_senyonjo/Downloads/dfcull.pdf\"\n",
    "with pdfplumber.open(path) as pdf:\n",
    "    pages=pdf.pages\n",
    "    for page in pages:\n",
    "        text=page.extract_text()\n",
    "        bank_name=re.compile(r'(^CAIROATMS|DTBSource|OULATMS|PBUPBsource|TropicalSrce|UBAsrce|F-TRUSTATMS|HFBSource|KCBSource)')\n",
    "        cdetails=re.compile(r'(^\\d/\\d/\\d{2}\\s\\d{2}\\:\\d{2}[A-Z]) (\\d{3}[A-Z]\\d{3}) (\\d{6}) (\\d{6}[A-Z]\\d{4}) ([a-zA-Z]) (\\d{12}) ([a-zA-Z]) ([\\d,]+\\d{3}\\.d{2}) ([\\d,]+\\d{3}\\.d{2}) (\\d\\.\\d{2}) ([\\d,]+\\d{3}\\.d{2}) (\\d{8})')\n",
    "        bank_details=[]\n",
    "        for line in text.split('\\n'):\n",
    "            if bank_name.match(line):\n",
    "                bank=line\n",
    "            if details.search(line):\n",
    "                datetime=details.search(line).group(1)\n",
    "                termid=details.search(line).group(2)\n",
    "                stan=details.search(line).group(3)\n",
    "                pan=details.search(line).group(4)\n",
    "                transaction_type=details.search(line).group(5)\n",
    "                rrn=details.search(line).group(6)\n",
    "                response_message=details.search(line).group(7)\n",
    "                req_amount=details.search(line).group(8)\n",
    "                final_amount=details.search(line).group(9)\n",
    "                net_surcharge=details.search(line).group(10)\n",
    "                net_impact=details.search(line).group(11)\n",
    "                tran_id=details.search(line).group(12)\n",
    "                bank_details.append(BANK_(bank,datetime,termid,stan,pan,transaction_type,rrn,response_message,req_amount,final_amount,net_surcharge,net_impact,tran_id))\n",
    "        \n",
    "        df=pd.DataFrame(bank_details)"
   ]
  },
  {
   "cell_type": "code",
   "execution_count": 68,
   "metadata": {},
   "outputs": [
    {
     "data": {
      "text/plain": [
       "['UBAsrce',\n",
       " 'UBAsrce',\n",
       " 'UBAsrce',\n",
       " 'UBAsrce',\n",
       " 'UBAsrce',\n",
       " 'UBAsrce',\n",
       " 'UBAsrce',\n",
       " 'UBAsrce',\n",
       " 'UBAsrce',\n",
       " 'UBAsrce',\n",
       " 'UBAsrce',\n",
       " 'UBAsrce',\n",
       " 'UBAsrce',\n",
       " 'UBAsrce',\n",
       " 'UBAsrce',\n",
       " 'UBAsrce']"
      ]
     },
     "execution_count": 68,
     "metadata": {},
     "output_type": "execute_result"
    }
   ],
   "source": [
    "bank_list\n",
    "                "
   ]
  },
  {
   "cell_type": "code",
   "execution_count": 32,
   "metadata": {},
   "outputs": [
    {
     "ename": "SyntaxError",
     "evalue": "invalid syntax (1181485778.py, line 6)",
     "output_type": "error",
     "traceback": [
      "\u001b[0;36m  File \u001b[0;32m\"/var/folders/l2/7jqgw4j12rd37gnvlfw6w22r0000gn/T/ipykernel_15188/1181485778.py\"\u001b[0;36m, line \u001b[0;32m6\u001b[0m\n\u001b[0;31m    bankname=\u001b[0m\n\u001b[0m             ^\u001b[0m\n\u001b[0;31mSyntaxError\u001b[0m\u001b[0;31m:\u001b[0m invalid syntax\n"
     ]
    }
   ],
   "source": [
    "path=\"/Users/_senyonjo/Downloads/DFCU_Issuer\\ Detail\\ Report_2023_0502_010005.pdf\"\n",
    "with pdfplumber.open(path) as pdf:\n",
    "    pages=pdf.pages\n",
    "    for page in pages:\n",
    "        text=page.extract_text()\n",
    "        bankname=\n",
    "    "
   ]
  },
  {
   "cell_type": "code",
   "execution_count": null,
   "metadata": {},
   "outputs": [],
   "source": []
  }
 ],
 "metadata": {
  "kernelspec": {
   "display_name": "base",
   "language": "python",
   "name": "python3"
  },
  "language_info": {
   "codemirror_mode": {
    "name": "ipython",
    "version": 3
   },
   "file_extension": ".py",
   "mimetype": "text/x-python",
   "name": "python",
   "nbconvert_exporter": "python",
   "pygments_lexer": "ipython3",
   "version": "3.9.13"
  },
  "orig_nbformat": 4,
  "vscode": {
   "interpreter": {
    "hash": "68aaf510e6c3f38d8d5677a9a5fe0ce4016a05e6c69df93d13aa1cd02d984416"
   }
  }
 },
 "nbformat": 4,
 "nbformat_minor": 2
}
